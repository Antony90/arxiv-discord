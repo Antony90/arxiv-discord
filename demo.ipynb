{
 "cells": [
  {
   "cell_type": "code",
   "execution_count": 14,
   "metadata": {},
   "outputs": [],
   "source": [
    "from langchain.document_loaders.arxiv import ArxivAPIWrapper, ArxivLoader\n",
    "from langchain.retrievers import ArxivRetriever\n",
    "from langchain.text_splitter import RecursiveCharacterTextSplitter\n",
    "from langchain.chains import ConversationalRetrievalChain\n",
    "from langchain.memory import ConversationBufferMemory\n",
    "from langchain.chains.qa_with_sources import load_qa_with_sources_chain\n",
    "from langchain.vectorstores import Chroma\n",
    "from langchain.chat_models import ChatOpenAI\n",
    "from langchain.embeddings import OpenAIEmbeddings\n",
    "from langchain.callbacks import StdOutCallbackHandler\n",
    "from dotenv import load_dotenv\n",
    "load_dotenv()\n",
    "\n",
    "embeddings = OpenAIEmbeddings()"
   ]
  },
  {
   "cell_type": "code",
   "execution_count": 15,
   "metadata": {},
   "outputs": [
    {
     "name": "stdout",
     "output_type": "stream",
     "text": [
      "{'Published': '2023-04-07', 'Title': 'Generative Agents: Interactive Simulacra of Human Behavior', 'Authors': \"Joon Sung Park, Joseph C. O'Brien, Carrie J. Cai, Meredith Ringel Morris, Percy Liang, Michael S. Bernstein\", 'Summary': \"Believable proxies of human behavior can empower interactive applications\\nranging from immersive environments to rehearsal spaces for interpersonal\\ncommunication to prototyping tools. In this paper, we introduce generative\\nagents--computational software agents that simulate believable human behavior.\\nGenerative agents wake up, cook breakfast, and head to work; artists paint,\\nwhile authors write; they form opinions, notice each other, and initiate\\nconversations; they remember and reflect on days past as they plan the next\\nday. To enable generative agents, we describe an architecture that extends a\\nlarge language model to store a complete record of the agent's experiences\\nusing natural language, synthesize those memories over time into higher-level\\nreflections, and retrieve them dynamically to plan behavior. We instantiate\\ngenerative agents to populate an interactive sandbox environment inspired by\\nThe Sims, where end users can interact with a small town of twenty five agents\\nusing natural language. In an evaluation, these generative agents produce\\nbelievable individual and emergent social behaviors: for example, starting with\\nonly a single user-specified notion that one agent wants to throw a Valentine's\\nDay party, the agents autonomously spread invitations to the party over the\\nnext two days, make new acquaintances, ask each other out on dates to the\\nparty, and coordinate to show up for the party together at the right time. We\\ndemonstrate through ablation that the components of our agent\\narchitecture--observation, planning, and reflection--each contribute critically\\nto the believability of agent behavior. By fusing large language models with\\ncomputational, interactive agents, this work introduces architectural and\\ninteraction patterns for enabling believable simulations of human behavior.\", 'entry_id': 'http://arxiv.org/abs/2304.03442v1', 'published_first_time': '2023-04-07', 'comment': None, 'journal_ref': None, 'doi': None, 'primary_category': 'cs.HC', 'categories': ['cs.HC', 'cs.AI', 'cs.LG'], 'links': ['http://arxiv.org/abs/2304.03442v1', 'http://arxiv.org/pdf/2304.03442v1']}\n"
     ]
    }
   ],
   "source": [
    "# generate vector store\n",
    "\n",
    "def get_arxiv_doc(id: str):\n",
    "    arxiv_client = ArxivAPIWrapper(\n",
    "        doc_content_chars_max=6000,\n",
    "        load_all_available_meta=True\n",
    "    )\n",
    "    docs = arxiv_client.load(query=id)\n",
    "    for doc in docs:\n",
    "        print(doc.metadata)\n",
    "        doc.metadata = {\n",
    "            \"source\": doc.metadata[\"entry_id\"].split(\"/\")[-1],\n",
    "            \"title\": doc.metadata[\"Title\"]\n",
    "        }\n",
    "        return doc\n",
    "    \n",
    "text_splitter = RecursiveCharacterTextSplitter(\n",
    "    chunk_size=500,\n",
    "    chunk_overlap=0\n",
    ")\n",
    " \n",
    "docs = text_splitter.split_documents(documents=[\n",
    "    get_arxiv_doc(\"2304.03442\"),\n",
    "    # get_arxiv_doc(\"2305.16291\")\n",
    "])\n",
    "\n",
    "db = Chroma.from_documents(docs, embedding=embeddings)\n"
   ]
  },
  {
   "cell_type": "code",
   "execution_count": 16,
   "metadata": {},
   "outputs": [
    {
     "name": "stdout",
     "output_type": "stream",
     "text": [
      "[Document(page_content='to applications such as cognitive models [21] and virtual environ-\\nments [9, 58], for over four decades researchers and practitioners\\nhave envisioned computational agents that can serve as believ-\\nable proxies of human behavior. In these visions, computationally-\\npowered agents act consistently with their past experiences and\\nreact believably to their environments. Such simulations of human\\nbehavior could populate virtual spaces and communities with real-', metadata={'source': '2304.03442v1', 'title': 'Generative Agents: Interactive Simulacra of Human Behavior'}), Document(page_content='Human-AI Interaction, agents, generative AI, large language models\\nACM Reference Format:\\nJoon Sung Park, Joseph C. O’Brien, Carrie J. Cai, Meredith Ringel Morris,\\nPercy Liang, and Michael S. Bernstein. 2023. Generative Agents: Interactive\\nSimulacra of Human Behavior. In . ACM, New York, NY, USA, 22 pages.\\nhttps://doi.org/xx.xx/xx.xx\\n1\\nINTRODUCTION\\nHow might we craft an interactive artificial society that reflects\\nbelievable human behavior? From sandbox games such as The Sims', metadata={'source': '2304.03442v1', 'title': 'Generative Agents: Interactive Simulacra of Human Behavior'}), Document(page_content='108]. Despite striking progress in large language models [17] that\\ncan simulate believable human behavior at a single time point [38,\\n79], fully general agents that ensure long-term coherence would\\nbe better suited by architectures that manage constantly-growing\\nmemories as new interactions, conflicts, and events arise and fade\\nover time, while handling cascading social dynamics that unfold\\nbetween multiple agents. Success requires an approach that can', metadata={'source': '2304.03442v1', 'title': 'Generative Agents: Interactive Simulacra of Human Behavior'}), Document(page_content='applications ranging from immersive environments to rehearsal\\nspaces for interpersonal communication to prototyping tools. In\\nthis paper, we introduce generative agents—computational software\\nPermission to make digital or hard copies of all or part of this work for personal or\\nclassroom use is granted without fee provided that copies are not made or distributed\\nfor profit or commercial advantage and that copies bear this notice and the full citation', metadata={'source': '2304.03442v1', 'title': 'Generative Agents: Interactive Simulacra of Human Behavior'})]\n"
     ]
    }
   ],
   "source": [
    "from langchain import LLMChain\n",
    "from langchain.chains.conversational_retrieval.prompts import CONDENSE_QUESTION_PROMPT\n",
    "from langchain.retrievers.self_query.base import SelfQueryRetriever\n",
    "from langchain.chains.query_constructor.base import AttributeInfo\n",
    "\n",
    "llm = ChatOpenAI(temperature=0.2, model=\"gpt-3.5-turbo\", max_tokens=300)\n",
    "\n",
    "metadata_info = [\n",
    "    AttributeInfo(\n",
    "        name=\"source\",\n",
    "        description=\"arXiv paper ID\",\n",
    "        type=\"string\"\n",
    "    ),\n",
    "    AttributeInfo(\n",
    "        name=\"title\",\n",
    "        description=\"paper title\",\n",
    "        type=\"string\"\n",
    "    )\n",
    "]\n",
    "print(db.as_retriever().get_relevant_documents(\"voyager AI\"))\n",
    "retriever = SelfQueryRetriever.from_llm(\n",
    "    llm=llm,\n",
    "    vectorstore=db,\n",
    "    metadata_field_info=metadata_info,\n",
    "    document_contents=\"arXiv PDF texts\",\n",
    "    verbose=True\n",
    ")\n",
    "# retriever = db.as_retriever(search_type=\"similarity\")\n",
    "\n",
    "memory = ConversationBufferMemory(memory_key=\"chat_history\", return_messages=True)\n",
    "doc_chain = load_qa_with_sources_chain(llm, chain_type=\"stuff\")\n",
    "question_generator = LLMChain(llm=llm, prompt=CONDENSE_QUESTION_PROMPT)\n",
    "\n",
    "qa = ConversationalRetrievalChain(\n",
    "    retriever=retriever,\n",
    "    memory=memory,\n",
    "    question_generator=question_generator,\n",
    "    combine_docs_chain=doc_chain,\n",
    "    callbacks=[StdOutCallbackHandler(color=\"yellow\")]\n",
    ")\n",
    "# qa = ConversationalRetrievalChain(\n",
    "#     memory=memory,\n",
    "#     llm=llm,\n",
    "#     retriever=retriever,\n",
    "#     callbacks=[StdOutCallbackHandler(color=\"yellow\")]\n",
    "# )"
   ]
  },
  {
   "cell_type": "code",
   "execution_count": 17,
   "metadata": {},
   "outputs": [
    {
     "name": "stdout",
     "output_type": "stream",
     "text": [
      "\n",
      "\n",
      "\u001b[1m> Entering new  chain...\u001b[0m\n"
     ]
    },
    {
     "name": "stderr",
     "output_type": "stream",
     "text": [
      "/home/yent/code/venv/lib/python3.11/site-packages/langchain/chains/llm.py:275: UserWarning: The predict_and_parse method is deprecated, instead pass an output parser directly to LLMChain.\n",
      "  warnings.warn(\n"
     ]
    },
    {
     "name": "stdout",
     "output_type": "stream",
     "text": [
      "query='skill curriculum' filter=None limit=None\n",
      "\n",
      "\u001b[1m> Finished chain.\u001b[0m\n",
      "A skill curriculum is a curriculum that focuses on teaching specific skills to individuals. It can be used to train people on how to handle difficult interpersonal situations, test social science theories, power applications such as social robots, and more. It is a way to provide structured learning and development in specific areas of expertise.\n",
      "SOURCES: 2304.03442v1\n"
     ]
    }
   ],
   "source": [
    "result = qa({\"question\": \"what is a skill curriculum?\"})\n",
    "print(result[\"answer\"])"
   ]
  },
  {
   "cell_type": "code",
   "execution_count": 26,
   "metadata": {},
   "outputs": [
    {
     "name": "stdout",
     "output_type": "stream",
     "text": [
      "\n",
      "\n",
      "\u001b[1m> Entering new  chain...\u001b[0m\n"
     ]
    },
    {
     "name": "stderr",
     "output_type": "stream",
     "text": [
      "/home/yent/code/venv/lib/python3.11/site-packages/langchain/chains/llm.py:275: UserWarning: The predict_and_parse method is deprecated, instead pass an output parser directly to LLMChain.\n",
      "  warnings.warn(\n"
     ]
    },
    {
     "name": "stdout",
     "output_type": "stream",
     "text": [
      "query='skill curriculum' filter=Comparison(comparator=<Comparator.EQ: 'eq'>, attribute='source', value='2304.03442v1') limit=None\n",
      "\n",
      "\u001b[1m> Finished chain.\u001b[0m\n"
     ]
    },
    {
     "data": {
      "text/plain": [
       "{'question': 'what is a skill curriculum in the paper with id 2304.03442v1',\n",
       " 'chat_history': [HumanMessage(content='what is a skill curriculum?', additional_kwargs={}, example=False),\n",
       "  AIMessage(content='A skill curriculum is a curriculum that focuses on teaching specific skills to individuals. It can be used to train people on how to handle difficult interpersonal situations, test social science theories, power applications such as social robots, and more. It is a way to provide structured learning and development in specific areas of expertise.\\nSOURCES: 2304.03442v1', additional_kwargs={}, example=False),\n",
       "  HumanMessage(content='can you make up a short code snippet in python of it?', additional_kwargs={}, example=False),\n",
       "  AIMessage(content=\"I don't know the answer.\", additional_kwargs={}, example=False),\n",
       "  HumanMessage(content='what is the title of the 2304.03442 paper?', additional_kwargs={}, example=False),\n",
       "  AIMessage(content=\"I don't know.\", additional_kwargs={}, example=False),\n",
       "  HumanMessage(content='summary of the 2304.03442 paper?', additional_kwargs={}, example=False),\n",
       "  AIMessage(content=\"I don't know the answer.\", additional_kwargs={}, example=False),\n",
       "  HumanMessage(content='summary of the 2304.03442v1 paper?', additional_kwargs={}, example=False),\n",
       "  AIMessage(content='I don\\'t know the summary of the paper with the title \"2304.03442v1\".\\nSOURCES:', additional_kwargs={}, example=False),\n",
       "  HumanMessage(content='summarize the 2304.03442v1 paper', additional_kwargs={}, example=False),\n",
       "  AIMessage(content='I don\\'t know the summary of the paper with the title \"2304.03442v1\".\\nSOURCES:', additional_kwargs={}, example=False),\n",
       "  HumanMessage(content='summarize the 2304.03442v1 paper', additional_kwargs={}, example=False),\n",
       "  AIMessage(content='I don\\'t know the summary of the paper with the title \"2304.03442v1\".\\nSOURCES:', additional_kwargs={}, example=False),\n",
       "  HumanMessage(content='write a summary of the 2304.03442v1 paper', additional_kwargs={}, example=False),\n",
       "  AIMessage(content='I don\\'t know the summary of the paper with the title \"2304.03442v1\".\\nSOURCES:', additional_kwargs={}, example=False),\n",
       "  HumanMessage(content='what is a skill curriculum in the 2304.03442v1 paper', additional_kwargs={}, example=False),\n",
       "  AIMessage(content=\"I don't know the answer.\", additional_kwargs={}, example=False),\n",
       "  HumanMessage(content='what is a skill curriculum in the paper with id 2304.03442v1', additional_kwargs={}, example=False),\n",
       "  AIMessage(content='The paper with the ID 2304.03442v1 discusses the concept of generative agents that simulate believable human behavior in an interactive sandbox environment. It does not mention a specific skill curriculum.\\nSOURCES: 2304.03442v1', additional_kwargs={}, example=False)],\n",
       " 'answer': 'The paper with the ID 2304.03442v1 discusses the concept of generative agents that simulate believable human behavior in an interactive sandbox environment. It does not mention a specific skill curriculum.\\nSOURCES: 2304.03442v1'}"
      ]
     },
     "execution_count": 26,
     "metadata": {},
     "output_type": "execute_result"
    }
   ],
   "source": [
    "qa({\"question\": \"what is a skill curriculum in the paper with id 2304.03442v1\"})"
   ]
  }
 ],
 "metadata": {
  "kernelspec": {
   "display_name": "venv",
   "language": "python",
   "name": "python3"
  },
  "language_info": {
   "codemirror_mode": {
    "name": "ipython",
    "version": 3
   },
   "file_extension": ".py",
   "mimetype": "text/x-python",
   "name": "python",
   "nbconvert_exporter": "python",
   "pygments_lexer": "ipython3",
   "version": "3.11.2"
  },
  "orig_nbformat": 4
 },
 "nbformat": 4,
 "nbformat_minor": 2
}
